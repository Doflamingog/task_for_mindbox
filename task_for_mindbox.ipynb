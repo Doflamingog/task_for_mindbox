{
  "nbformat": 4,
  "nbformat_minor": 0,
  "metadata": {
    "colab": {
      "provenance": []
    },
    "kernelspec": {
      "name": "python3",
      "display_name": "Python 3"
    },
    "language_info": {
      "name": "python"
    }
  },
  "cells": [
    {
      "cell_type": "code",
      "execution_count": 4,
      "metadata": {
        "id": "GwCw6yY3MEGM"
      },
      "outputs": [],
      "source": [
        "def count_sum_digits(number:int) -> int:\n",
        "  sum_digits = 0\n",
        "  for j in str(number):\n",
        "      sum_digits += int(j)\n",
        "  return sum_digits"
      ]
    },
    {
      "cell_type": "code",
      "source": [
        "def first_people_segment(n_customers:int)->dict:\n",
        "  \n",
        "  segment = {}\n",
        "\n",
        "  for i in range(n_customers):\n",
        "    segment_number = count_sum_digits(i)\n",
        "    segment[f\"Segment_{segment_number}\"] = segment.get(f\"Segment_{segment_number}\",0) + 1\n",
        "\n",
        "  return segment"
      ],
      "metadata": {
        "id": "PM6UghkGMMII"
      },
      "execution_count": 5,
      "outputs": []
    },
    {
      "cell_type": "code",
      "source": [
        "def second_people_segment(n_customers:int,n_first_id:int)->dict:\n",
        "  segment = {}\n",
        "  for i in range(n_first_id,n_first_id + n_customers):\n",
        "\n",
        "    segment_number = count_sum_digits(i)\n",
        "    segment[f\"Segment_{segment_number}\"] = segment.get(f\"Segment_{segment_number}\",0) + 1\n",
        "\n",
        "  return segment"
      ],
      "metadata": {
        "id": "Y3ALA_KXMN_g"
      },
      "execution_count": 6,
      "outputs": []
    }
  ]
}